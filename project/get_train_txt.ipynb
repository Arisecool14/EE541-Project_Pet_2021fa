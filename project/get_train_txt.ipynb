{
 "cells": [
  {
   "cell_type": "code",
   "execution_count": 1,
   "metadata": {},
   "outputs": [
    {
     "name": "stdout",
     "output_type": "stream",
     "text": [
      "hello\n"
     ]
    }
   ],
   "source": [
    "print(\"hello\")"
   ]
  },
  {
   "cell_type": "code",
   "execution_count": 2,
   "metadata": {},
   "outputs": [],
   "source": [
    "import csv"
   ]
  },
  {
   "cell_type": "code",
   "execution_count": 3,
   "metadata": {},
   "outputs": [],
   "source": [
    "dictionary ={}\n",
    "with open('mytrain.txt','w') as g:\n",
    "\n",
    "    with open('train.csv') as f:\n",
    "        count = 0\n",
    "        reader = csv.reader(f)\n",
    "        for row in reader:\n",
    "            if count == 0:\n",
    "                count += 1\n",
    "            else:\n",
    "                # print(row[13])\n",
    "                id = row[0]\n",
    "                score = row[13]\n",
    "                count += 1\n",
    "                dictionary[id] = score\n",
    "                g.write(id)\n",
    "                g.write(' ')\n",
    "                g.write(score)\n",
    "            g.write('\\n')"
   ]
  },
  {
   "cell_type": "code",
   "execution_count": 4,
   "metadata": {},
   "outputs": [],
   "source": [
    "import json\n",
    "json_object = json.dumps(dictionary)\n",
    "# Writing to .json file\n",
    "with open(\"train.json\", \"w\") as outfile:\n",
    "    outfile.write(json_object)"
   ]
  },
  {
   "cell_type": "code",
   "execution_count": null,
   "metadata": {},
   "outputs": [],
   "source": []
  }
 ],
 "metadata": {
  "interpreter": {
   "hash": "f9dc663c12342db218673069099c5f4d734584a05de3b02b725edaf289dd9612"
  },
  "kernelspec": {
   "display_name": "Python 3.7.12 64-bit ('pytorch_latest_p37': conda)",
   "language": "python",
   "name": "python3"
  },
  "language_info": {
   "codemirror_mode": {
    "name": "ipython",
    "version": 3
   },
   "file_extension": ".py",
   "mimetype": "text/x-python",
   "name": "python",
   "nbconvert_exporter": "python",
   "pygments_lexer": "ipython3",
   "version": "3.7.12"
  },
  "orig_nbformat": 4
 },
 "nbformat": 4,
 "nbformat_minor": 2
}
