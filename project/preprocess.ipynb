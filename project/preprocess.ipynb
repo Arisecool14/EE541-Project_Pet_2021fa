{
 "cells": [
  {
   "cell_type": "code",
   "execution_count": 1,
   "metadata": {},
   "outputs": [],
   "source": [
    "import torch\n",
    "import torch as th\n",
    "import torch.nn as nn\n",
    "import torch.nn.functional as F\n",
    "from torchvision import transforms\n",
    "from torch.utils.data import Dataset, DataLoader\n",
    "\n",
    "from sklearn.model_selection import train_test_split\n",
    "from sklearn.preprocessing import LabelEncoder"
   ]
  },
  {
   "cell_type": "code",
   "execution_count": 2,
   "metadata": {},
   "outputs": [],
   "source": [
    "import os\n",
    "import numpy as np\n",
    "import os.path as osp\n",
    "import json\n",
    "from tqdm import tqdm\n",
    "from PIL import Image"
   ]
  },
  {
   "cell_type": "code",
   "execution_count": 3,
   "metadata": {},
   "outputs": [],
   "source": [
    "from utils import Config"
   ]
  },
  {
   "cell_type": "code",
   "execution_count": 32,
   "metadata": {},
   "outputs": [],
   "source": [
    "class pet_dataset:\n",
    "    def __init__(self):\n",
    "        self.root_dir = Config['root_path']\n",
    "        self.image_dir = osp.join(self.root_dir, 'test')\n",
    "        self.transforms = self.get_data_transforms()\n",
    "\n",
    "\n",
    "    def get_data_transforms(self):\n",
    "        data_transforms = {\n",
    "            'train': transforms.Compose([\n",
    "                transforms.CenterCrop(100),\n",
    "                transforms.ToTensor(),\n",
    "                transforms.Normalize([0.5, 0.5, 0.5], [0.5, 0.5, 0.5])\n",
    "            ]),\n",
    "            'test': transforms.Compose([\n",
    "                transforms.Resize(256),\n",
    "                transforms.CenterCrop(224),\n",
    "                transforms.ToTensor(),\n",
    "                transforms.Normalize([0.5, 0.5, 0.5], [0.5, 0.5, 0.5])\n",
    "            ]),\n",
    "        }\n",
    "        return data_transforms\n",
    "\n",
    "    # def create_dataset(self):\n",
    "    def create_dataset(self):\n",
    "        # image_dir = '/home/ubuntu/mycode/project/test'\n",
    "        files = os.listdir(self.image_dir)\n",
    "        meta_file = open('./toy.json', 'r')\n",
    "        meta_json = json.load(meta_file)\n",
    "        X = []; y = []\n",
    "        for x in files:\n",
    "            if x[:-4] in meta_json:\n",
    "                print(x)\n",
    "                X.append(x)\n",
    "                y.append(int(meta_json[x[:-4]]))\n",
    "        # y = LabelEncoder().fit_transform(y)\n",
    "        # print('len of X: {}, # of outputs: {}'.format(len(X), max(y) + 1))\n",
    "        print('len of X: {}'.format(len(X)))\n",
    "        # split dataset\n",
    "        X_train, X_test, y_train, y_test = train_test_split(X, y, test_size=0.2)\n",
    "        return X_train, X_test, y_train, y_test, max(y) , min(y)\n",
    "\n"
   ]
  },
  {
   "cell_type": "code",
   "execution_count": null,
   "metadata": {},
   "outputs": [],
   "source": [
    "\n",
    "# image_dir = '/home/ubuntu/mycode/project/test'\n",
    "# files = os.listdir(image_dir)\n",
    "# meta_file = open('./toy.json', 'r')\n",
    "# meta_json = json.load(meta_file)\n",
    "# meta_json\n",
    "# X = []; y = []\n",
    "# for x in files:\n",
    "#     if x[:-4] in meta_json:\n",
    "#         print(x)\n",
    "#         X.append(x)\n",
    "#         y.append(int(meta_json[x[:-4]]))"
   ]
  },
  {
   "cell_type": "code",
   "execution_count": 33,
   "metadata": {},
   "outputs": [],
   "source": [
    "class pet_train(Dataset):\n",
    "    def __init__(self, X_train, y_train, transform):\n",
    "        self.X_train = X_train\n",
    "        self.y_train = y_train\n",
    "        self.transform = transform\n",
    "        self.image_dir = osp.join(Config['root_path'], 'test')\n",
    "\n",
    "    def __len__(self):\n",
    "        return len(self.X_train)\n",
    "\n",
    "    def __getitem__(self, item):\n",
    "        file_path = osp.join(self.image_dir, self.X_train[item])\n",
    "        # tempimg = self.transform(Image.open(file_path))\n",
    "        return self.transform(Image.open(file_path)),self.y_train[item]\n",
    "        # return tempimg,self.y_train[item]"
   ]
  },
  {
   "cell_type": "code",
   "execution_count": 37,
   "metadata": {},
   "outputs": [],
   "source": [
    "class pet_test(Dataset):\n",
    "    def __init__(self, X_test, y_test, transform):\n",
    "        self.X_test = X_test\n",
    "        self.y_test = y_test\n",
    "        self.transform = transform\n",
    "        self.image_dir = osp.join(Config['root_path'], 'test')\n",
    "\n",
    "\n",
    "    def __len__(self):\n",
    "        return len(self.X_test)\n",
    "\n",
    "\n",
    "    def __getitem__(self, item):\n",
    "        file_path = osp.join(self.image_dir, self.X_test[item])\n",
    "        # tempimg = self.transform(Image.open(file_path))\n",
    "        return self.transform(Image.open(file_path)),self.y_test[item]\n",
    "        # return tempimg,self.y_train[item]"
   ]
  },
  {
   "cell_type": "code",
   "execution_count": null,
   "metadata": {},
   "outputs": [],
   "source": [
    "def get_dataloader(debug, batch_size, num_workers):\n",
    "    dataset = pet_dataset()\n",
    "    transform = dataset.get_data_transforms()\n",
    "    X_train, X_test, y_train, y_test, biggest,smallest = dataset.create_dataset()\n",
    "\n",
    "    if debug==True:\n",
    "        train_set = pet_train(X_train[:1000], y_train[:1000], transform['train'])\n",
    "        test_set = pet_test(X_test[:1000], y_test[:1000], transform['test'])\n",
    "        dataset_size = {'train': 1000, 'test': 1000}\n",
    "    else:\n",
    "        train_set = pet_train(X_train, y_train, transform['train'])\n",
    "        test_set = pet_test(X_test, y_test, transform['test'])\n",
    "        dataset_size = {'train': len(y_train), 'test': len(y_test)}\n",
    "\n",
    "    datasets = {'train': train_set, 'test': test_set}\n",
    "    dataloaders = {x: DataLoader(datasets[x],\n",
    "                                 shuffle=True if x=='train' else False,\n",
    "                                 batch_size=batch_size,\n",
    "                                 num_workers=num_workers)\n",
    "                                 for x in ['train', 'test']}\n",
    "    return dataloaders, biggest, dataset_size,smallest"
   ]
  },
  {
   "cell_type": "code",
   "execution_count": 38,
   "metadata": {},
   "outputs": [
    {
     "name": "stdout",
     "output_type": "stream",
     "text": [
      "8f49844c382931444e68dffbe20228f4.jpg\n",
      "4e429cead1848a298432a0acad014c9d.jpg\n",
      "len of X: 2\n"
     ]
    }
   ],
   "source": [
    "# dataset = pet_dataset()\n",
    "# transform = dataset.get_data_transforms()\n",
    "# X_train, X_test, y_train, y_test, biggest, smallest = dataset.create_dataset()\n"
   ]
  },
  {
   "cell_type": "code",
   "execution_count": 39,
   "metadata": {},
   "outputs": [],
   "source": [
    "# train_set= pet_train(X_train[:1], y_train[:1], transform['train'])"
   ]
  },
  {
   "cell_type": "code",
   "execution_count": 40,
   "metadata": {},
   "outputs": [
    {
     "data": {
      "image/png": "[encoded data removed]",
      "text/plain": [
       "<PIL.Image.Image image mode=RGB size=100x100 at 0x7F7CC6961190>"
      ]
     },
     "execution_count": 40,
     "metadata": {},
     "output_type": "execute_result"
    }
   ],
   "source": [
    "# train_set[0][0]"
   ]
  },
  {
   "cell_type": "code",
   "execution_count": null,
   "metadata": {},
   "outputs": [],
   "source": []
  },
  {
   "cell_type": "code",
   "execution_count": null,
   "metadata": {},
   "outputs": [],
   "source": []
  }
 ],
 "metadata": {
  "interpreter": {
   "hash": "f9dc663c12342db218673069099c5f4d734584a05de3b02b725edaf289dd9612"
  },
  "kernelspec": {
   "display_name": "Python 3.7.12 64-bit ('pytorch_latest_p37': conda)",
   "language": "python",
   "name": "python3"
  },
  "language_info": {
   "codemirror_mode": {
    "name": "ipython",
    "version": 3
   },
   "file_extension": ".py",
   "mimetype": "text/x-python",
   "name": "python",
   "nbconvert_exporter": "python",
   "pygments_lexer": "ipython3",
   "version": "3.7.12"
  },
  "orig_nbformat": 4
 },
 "nbformat": 4,
 "nbformat_minor": 2
}
